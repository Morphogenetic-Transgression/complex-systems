{
 "cells": [
  {
   "cell_type": "code",
   "execution_count": 1,
   "id": "e0834720-c127-4a13-9b0f-4ef4cf4dfe0a",
   "metadata": {},
   "outputs": [
    {
     "name": "stdout",
     "output_type": "stream",
     "text": [
      "pygame 2.2.0 (SDL 2.26.5, Python 3.11.6)\n",
      "Hello from the pygame community. https://www.pygame.org/contribute.html\n",
      "pygame-menu 4.5.0\n"
     ]
    }
   ],
   "source": [
    "# from tqdm import tqdm\n",
    "import numpy as np\n",
    "# import pandas as pd\n",
    "# from scipy.stats import multivariate_normal\n",
    "from colorful_swarm_matrix.systems import MultiAgent, Simulation\n",
    "from colorful_swarm_matrix.visualization import PygameSession"
   ]
  },
  {
   "cell_type": "code",
   "execution_count": 2,
   "id": "f80871eb-57d2-4c32-8225-9873450192a4",
   "metadata": {},
   "outputs": [],
   "source": [
    "STEPS_IN_SIMULATION = 500\n",
    "ROWS_NUMBER = 40\n",
    "COLUMNS_NUMBER = 40\n",
    "DEPTH = 3"
   ]
  },
  {
   "cell_type": "code",
   "execution_count": 3,
   "id": "6382a490-6da1-4e48-a016-6ba492c7034e",
   "metadata": {},
   "outputs": [],
   "source": [
    "init_state = np.random.uniform(0, 1, (ROWS_NUMBER, COLUMNS_NUMBER, DEPTH))"
   ]
  },
  {
   "cell_type": "code",
   "execution_count": 4,
   "id": "9be6670c-aea0-41f9-8055-5deddc57dc00",
   "metadata": {},
   "outputs": [],
   "source": [
    "multi_agent = MultiAgent(init_state)"
   ]
  },
  {
   "cell_type": "code",
   "execution_count": 5,
   "id": "7aa59c2d-ced8-4366-abb1-132262dbfc5e",
   "metadata": {},
   "outputs": [],
   "source": [
    "# for h in range(ROWS_NUMBER):\n",
    "#     print()\n",
    "#     for w in range(COLUMNS_NUMBER):\n",
    "#         print(multi_agent.agents_matrix()[h][w].state.as_rgb250(), end=\"   \")"
   ]
  },
  {
   "cell_type": "code",
   "execution_count": 6,
   "id": "3fd86715-7a46-4b01-8ced-73077b60732a",
   "metadata": {},
   "outputs": [],
   "source": [
    "simulation = Simulation(multi_agent, STEPS_IN_SIMULATION)"
   ]
  },
  {
   "cell_type": "code",
   "execution_count": 7,
   "id": "260db0de-a2e8-4cc2-8e4d-3369059f153e",
   "metadata": {},
   "outputs": [],
   "source": [
    "session = PygameSession(simulation=simulation, by_mouse=False, rendering_duration=0.1)"
   ]
  },
  {
   "cell_type": "code",
   "execution_count": 8,
   "id": "5b440c32-721a-42dd-a9b4-28bb90e1ac78",
   "metadata": {},
   "outputs": [],
   "source": [
    "session.draw_simulation()"
   ]
  },
  {
   "cell_type": "code",
   "execution_count": null,
   "id": "d521ce18-27cc-4e9b-b30b-9201f2f46ca4",
   "metadata": {},
   "outputs": [],
   "source": []
  },
  {
   "cell_type": "code",
   "execution_count": null,
   "id": "8ac4e0d9-e973-4e4a-bd75-53df1234bd73",
   "metadata": {},
   "outputs": [],
   "source": []
  },
  {
   "cell_type": "code",
   "execution_count": null,
   "id": "a4d93759-6625-4af3-b8cd-61cd168106a3",
   "metadata": {},
   "outputs": [],
   "source": []
  },
  {
   "cell_type": "code",
   "execution_count": null,
   "id": "499d8762-6073-4f50-a523-faf216532619",
   "metadata": {},
   "outputs": [],
   "source": []
  }
 ],
 "metadata": {
  "kernelspec": {
   "display_name": "modeling_control",
   "language": "python",
   "name": "modeling_control"
  },
  "language_info": {
   "codemirror_mode": {
    "name": "ipython",
    "version": 3
   },
   "file_extension": ".py",
   "mimetype": "text/x-python",
   "name": "python",
   "nbconvert_exporter": "python",
   "pygments_lexer": "ipython3",
   "version": "3.11.6"
  }
 },
 "nbformat": 4,
 "nbformat_minor": 5
}
