{
 "cells": [
  {
   "cell_type": "code",
   "execution_count": 11,
   "id": "e0834720-c127-4a13-9b0f-4ef4cf4dfe0a",
   "metadata": {},
   "outputs": [],
   "source": [
    "import numpy as np\n",
    "from utils import InitialState\n",
    "from system import MultiAgentGameLife\n",
    "from simulation import Simulation\n",
    "from pygame_session import PygameSession"
   ]
  },
  {
   "cell_type": "code",
   "execution_count": 12,
   "id": "f80871eb-57d2-4c32-8225-9873450192a4",
   "metadata": {},
   "outputs": [],
   "source": [
    "STEPS_IN_SIMULATION = 200\n",
    "ROWS_NUMBER = 16*4\n",
    "COLUMNS_NUMBER = 16*4"
   ]
  },
  {
   "cell_type": "code",
   "execution_count": 13,
   "id": "285116ed-aef0-4076-9bdc-ea8bae2f7a07",
   "metadata": {},
   "outputs": [],
   "source": [
    "init_state = InitialState(ROWS_NUMBER, COLUMNS_NUMBER)"
   ]
  },
  {
   "cell_type": "code",
   "execution_count": 14,
   "id": "3c69e101-bc93-4aee-9554-c16b4a609b07",
   "metadata": {},
   "outputs": [],
   "source": [
    "init_state = init_state.glider_gun"
   ]
  },
  {
   "cell_type": "code",
   "execution_count": 15,
   "id": "9be6670c-aea0-41f9-8055-5deddc57dc00",
   "metadata": {},
   "outputs": [],
   "source": [
    "# system = MultiAgent(init_state, spherical=True, depth=2)\n",
    "system = MultiAgentGameLife(init_state, spherical=True,)"
   ]
  },
  {
   "cell_type": "code",
   "execution_count": 16,
   "id": "3fd86715-7a46-4b01-8ced-73077b60732a",
   "metadata": {},
   "outputs": [],
   "source": [
    "simulation = Simulation(system, STEPS_IN_SIMULATION)"
   ]
  },
  {
   "cell_type": "code",
   "execution_count": 17,
   "id": "260db0de-a2e8-4cc2-8e4d-3369059f153e",
   "metadata": {},
   "outputs": [],
   "source": [
    "session = PygameSession(simulation=simulation, by_mouse=False, rendering_duration=0.1)"
   ]
  },
  {
   "cell_type": "code",
   "execution_count": 18,
   "id": "4e68cd81-8170-4e02-b2aa-7edee1219917",
   "metadata": {},
   "outputs": [],
   "source": [
    "# session.simulation.group.macro_cells"
   ]
  },
  {
   "cell_type": "code",
   "execution_count": 19,
   "id": "5b440c32-721a-42dd-a9b4-28bb90e1ac78",
   "metadata": {},
   "outputs": [],
   "source": [
    "session.draw_simulation()"
   ]
  },
  {
   "cell_type": "code",
   "execution_count": 10,
   "id": "a85e48df-2b5b-48b9-a315-f9db03405ca3",
   "metadata": {},
   "outputs": [],
   "source": [
    "# TODO автокаталитические реакции, морфогенез тьюринга, реакция диффузии, \n",
    "# пропускная способность, негэнтропия, организация, энергия информация, зарождение жизни"
   ]
  },
  {
   "cell_type": "code",
   "execution_count": null,
   "id": "d74d188b-c3de-4b21-8ad9-3fc83f157a49",
   "metadata": {},
   "outputs": [],
   "source": []
  },
  {
   "cell_type": "code",
   "execution_count": null,
   "id": "8e6f1af9-2878-426b-bb5b-40b90e5654ab",
   "metadata": {},
   "outputs": [],
   "source": []
  }
 ],
 "metadata": {
  "kernelspec": {
   "display_name": "Python 3 (Spyder)",
   "language": "python3",
   "name": "modeling_control"
  },
  "language_info": {
   "codemirror_mode": {
    "name": "ipython",
    "version": 3
   },
   "file_extension": ".py",
   "mimetype": "text/x-python",
   "name": "python",
   "nbconvert_exporter": "python",
   "pygments_lexer": "ipython3",
   "version": "3.11.6"
  }
 },
 "nbformat": 4,
 "nbformat_minor": 5
}
