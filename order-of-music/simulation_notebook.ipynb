{
 "cells": [
  {
   "cell_type": "code",
   "execution_count": 1,
   "id": "b97f504f-149b-4817-8ec1-f28c07848663",
   "metadata": {},
   "outputs": [],
   "source": [
    "from bot import main"
   ]
  },
  {
   "cell_type": "code",
   "execution_count": 2,
   "id": "829ea1e4-e254-4cad-9e19-14c02c3c6ba4",
   "metadata": {},
   "outputs": [],
   "source": [
    "import bot"
   ]
  },
  {
   "cell_type": "code",
   "execution_count": 3,
   "id": "83d544cf-b655-4dc6-864a-7b5d2609ab6f",
   "metadata": {},
   "outputs": [],
   "source": [
    "main() "
   ]
  },
  {
   "cell_type": "code",
   "execution_count": null,
   "id": "07bbd4e4-76f1-4de4-80c4-4c8293accdc1",
   "metadata": {},
   "outputs": [],
   "source": []
  },
  {
   "cell_type": "code",
   "execution_count": null,
   "id": "db8aec0c-8974-4cfc-abda-9c7132a40f39",
   "metadata": {},
   "outputs": [],
   "source": []
  }
 ],
 "metadata": {
  "kernelspec": {
   "display_name": "modeling_control",
   "language": "python",
   "name": "modeling_control"
  },
  "language_info": {
   "codemirror_mode": {
    "name": "ipython",
    "version": 3
   },
   "file_extension": ".py",
   "mimetype": "text/x-python",
   "name": "python",
   "nbconvert_exporter": "python",
   "pygments_lexer": "ipython3",
   "version": "3.11.6"
  }
 },
 "nbformat": 4,
 "nbformat_minor": 5
}
